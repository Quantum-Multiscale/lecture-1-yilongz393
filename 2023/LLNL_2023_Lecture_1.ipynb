{
 "cells": [
  {
   "cell_type": "code",
   "execution_count": 1,
   "id": "bb7cb1c6",
   "metadata": {
    "hide_input": true,
    "slideshow": {
     "slide_type": "skip"
    }
   },
   "outputs": [],
   "source": [
    "#hidden cell to be executed BEFORE the presentation\n",
    "import warnings\n",
    "warnings.filterwarnings('ignore')\n",
    "import numpy as np\n",
    "import dftpy\n",
    "from dftpy.ions import Ions\n",
    "from dftpy.field import DirectField\n",
    "from dftpy.grid import DirectGrid\n",
    "from dftpy.functional import LocalPseudo, Functional, TotalFunctional\n",
    "from dftpy.formats import io\n",
    "from dftpy.math_utils import ecut2nr\n",
    "from dftpy.time_data import TimeData\n",
    "from dftpy.optimization import Optimization\n",
    "from dftpy.mpi import sprint\n",
    "from IPython.lib.display import YouTubeVideo\n",
    "from IPython.display import IFrame\n",
    "from ase.visualize import view\n",
    "PP_list = {'Al': 'Al_lda.oe01.recpot'}\n",
    "#import fortecubeview"
   ]
  },
  {
   "cell_type": "markdown",
   "id": "7d9a999c",
   "metadata": {
    "slideshow": {
     "slide_type": "slide"
    }
   },
   "source": [
    "<center>\n",
    "    <h1>DFT and DFT embedding</h1>\n",
    "    <h3> Ways to approach the mesoscopic world with ab-initio methods (without cutting corners)</h3>\n",
    "<center>\n",
    "<br>\n",
    "<table>\n",
    "  <tr>\n",
    "      <td><p><h1>Michele Pavanello</h1></p><p><h2>Rutgers University-Newark</h2></p></td>\n",
    "      <td><img src=\"figures/logos/run.png\" width=200 height=200 /></td>\n",
    "  </tr>\n",
    "  <tr>\n",
    "    <td></td>\n",
    "    <td> http://prg.rutgers.edu</td>\n",
    "  </tr>\n",
    "</table>\n",
    "\n",
    "#### LLNL Computational Chemistry & Materials Science Summer Institute -- June 12, 2023\n"
   ]
  },
  {
   "cell_type": "markdown",
   "id": "4a3f2bf2",
   "metadata": {
    "slideshow": {
     "slide_type": "slide"
    }
   },
   "source": [
    "# Ready to work?\n",
    "\n",
    "<div class=\"alert alert-block alert-success\">\n",
    "    <center><b><a href=\"https://classroom.github.com/a/btNyJc4Z\">Lecture 1 assignment</a></b></center>\n",
    "    </div>\n",
    "    \n",
    "<center>\n",
    "        <img src=\"./figures/random/lect_1_qr.png\" width=500 />\n",
    "    </center>"
   ]
  },
  {
   "cell_type": "markdown",
   "id": "c3bc2196",
   "metadata": {
    "slideshow": {
     "slide_type": "slide"
    }
   },
   "source": [
    "# Acknowledgements\n",
    "\n",
    "<table>\n",
    "  <tr>\n",
    "      <td><p><h3>Students</h3></p><p>Dr Xuecheng Shao</p><p>Dr Xin Chen</p><p>Alina Umerbekova</p><p>Jessica Martinez</p><p>Valeria Rios </p></td>\n",
    "      <td><img src=\"figures/prg_pics/prg_2023.png\" width=800 /></td>\n",
    "  </tr>\n",
    "</table>\n",
    "\n",
    "Funding: NSF, DOE, MolSSI, ACS-PRF, Rutgers"
   ]
  },
  {
   "cell_type": "markdown",
   "id": "52e3a2f0",
   "metadata": {
    "slideshow": {
     "slide_type": "slide"
    }
   },
   "source": [
    "# The Real World\n",
    "<table>\n",
    "    <tr>\n",
    "      <td><h3>Photocatalyst</h3></td>\n",
    "        <td><h3>Catalytic nanoparticles</h3></td>\n",
    "  </tr>\n",
    "  <tr>\n",
    "      <td><img src=\"figures/science/photocatalyst.png\" height=500 /></td>\n",
    "      <td><img src=\"figures/science/catalyst.png\" height=500 /></td>\n",
    "  </tr>\n",
    "    <tr>\n",
    "        <td>Chem. Comm., 43, 6551 (2009)</td>\n",
    "        <td>PCCP, 21, 15080 (2019)</td>\n",
    "    </tr>\n",
    "</table>   "
   ]
  },
  {
   "cell_type": "markdown",
   "id": "408a1497",
   "metadata": {
    "slideshow": {
     "slide_type": "slide"
    }
   },
   "source": [
    "# Available electronic structure methods\n",
    "<br>\n",
    "<center>\n",
    "    <img src=\"figures/science/electronic_structure.png\" width=1600 />\n",
    "</center>"
   ]
  },
  {
   "cell_type": "markdown",
   "id": "0b46c4be",
   "metadata": {
    "slideshow": {
     "slide_type": "slide"
    }
   },
   "source": [
    "# Poll time\n",
    "\n",
    "Let's check your DFT knowledge. \n",
    "\n",
    "- What is Kohn-Sham DFT's energy density functional?\n",
    "- Please write your answer somewhere. \n",
    "- Be ready to discuss it with others or with the class."
   ]
  },
  {
   "cell_type": "markdown",
   "id": "a8739aad",
   "metadata": {
    "slideshow": {
     "slide_type": "slide"
    }
   },
   "source": [
    "# An option: Orbital-free DFT (OF-DFT)\n",
    "<br>\n",
    "\n",
    "<center>\n",
    "<ul>\n",
    "    <li><p>The variational function is the electron density <u>only</u></p> \n",
    "        <p>$$n(\\mathbf{r})=N |\\psi(\\mathbf{r})|^2$$</p></li>\n",
    "    <li><p>The energy functional is a pure functional of $n(\\mathbf{r})$</p>\n",
    "        <p>$$E[n]=T+W_{ee}+\\int n(\\mathbf{r}) v_{ext}(\\mathbf{r}) d \\mathbf{r}\\equiv T_s[n]+ E_H[n]+E_{xc}[n]+\\int n(\\mathbf{r}) v_{ext}(\\mathbf{r}) d \\mathbf{r} $$</p></li>\n",
    "    <li><p>Ground state is found by direct minimization</p>\n",
    "        <p>$$n_0(\\mathbf{r})=\\text{argmin}_n\\left[ E[n]-\\mu \\left(\\int n(\\mathbf{r})d\\mathbf{r}-N\\right)\\right]$$</p></li>\n",
    "</ul>\n",
    "</center>\n",
    "<div class=\"alert alert-block alert-success\"><center><b>Opportunities:</b> (1) No need to diagonalize any matrix! (2) Complexity $\\mathcal{O}[N\\ln N]$</center></div>\n",
    "<div class=\"alert alert-block alert-danger\"><center><b>Problem:</b> $T_s[n]$ exists, but it is not known...</center></div>"
   ]
  },
  {
   "cell_type": "markdown",
   "id": "84559cc5",
   "metadata": {
    "slideshow": {
     "slide_type": "slide"
    }
   },
   "source": [
    "# Orbital-free vs Kohn-Sham DFT\n",
    "<br>\n",
    "<ul>\n",
    "    <li><p>KS and OF energy functionals are the same</p>\n",
    "        <p>$$E[n]=T_s[n]+\\int n(\\mathbf{r}) v_{ext}(\\mathbf{r}) d \\mathbf{r} + E_{xc}[n]+ E_{H}[n]$$</p></li>\n",
    "    <li><p><b>In practice</b>, the noninteracting kinetic energy is treated differently</p>\n",
    "        <p>$$T_s[n]~\\mathrm{vs}~T_s[\\{\\psi_i[n]\\}$$</p></li>\n",
    "</ul>\n",
    "</center>"
   ]
  },
  {
   "cell_type": "markdown",
   "id": "63628f97",
   "metadata": {
    "slideshow": {
     "slide_type": "subslide"
    }
   },
   "source": [
    "...let's see if we remember...\n",
    "    <ul>\n",
    "        <li><p>Thomas-Fermi kinetic energy:</p>\n",
    "            <p>$$T_{TF}[n] = \\int C_{TF} n^{5/3}(\\mathbf{r}) d \\mathbf{r}$$</p>\n",
    "        <li><p>exact noninteracting kinetic energy (Kohn-Sham) in terms of KS orbitals, $\\{\\psi_i\\}$:</p>\n",
    "            <p>$$T_s[n] = \\sum_i^{\\mathrm{occ}} -\\frac{1}{2} \\int \\psi_i[n](\\mathbf{r}) \\nabla^2 \\psi_i[n](\\mathbf{r}) d \\mathbf{r}$$</p>\n",
    "    </ul>"
   ]
  },
  {
   "cell_type": "markdown",
   "id": "d01618e4",
   "metadata": {
    "slideshow": {
     "slide_type": "slide"
    }
   },
   "source": [
    "# Where do the KS orbitals come from?\n",
    "\n",
    "- Because $T_s[n]\\equiv T_s[\\{\\psi_i[n]\\}$, the KS energy functional becomes \n",
    "$$E[n] \\to E[\\{\\psi_i\\}]$$\n",
    "<br>\n",
    "- upon variational minimization of $E[\\{\\psi_i\\}]$, the KS equations are derived,\n",
    "$$-\\frac{1}{2}\\nabla^2 \\psi_i[n](\\mathbf{r}) + v_s(\\mathbf{r})\\psi_i[n](\\mathbf{r}) = \\varepsilon_i \\psi_i[n](\\mathbf{r})$$"
   ]
  },
  {
   "cell_type": "markdown",
   "id": "45654529",
   "metadata": {
    "slideshow": {
     "slide_type": "fragment"
    }
   },
   "source": [
    "- where the KS potential is defined as:\n",
    "$$\n",
    "v_s(\\mathbf{r}) = v_{ext}(\\mathbf{r})+ \\frac{\\delta E_{Hxc}[n]}{\\delta n(\\mathbf{r})}\n",
    "$$"
   ]
  },
  {
   "cell_type": "markdown",
   "id": "b110aab5",
   "metadata": {
    "slideshow": {
     "slide_type": "fragment"
    }
   },
   "source": [
    "<div class=\"alert alert-block alert-danger\">\n",
    "    <h3>Challenge:</h3>\n",
    "<ul>\n",
    "    <li>Write the definition of the Hartree functional, $E_H[n]$.</li>\n",
    "    <li>Write an expression for $\\frac{\\delta E_{H}[n]}{\\delta n(\\mathbf{r})}$.</li>\n",
    "</ul>\n",
    "</div>\n"
   ]
  },
  {
   "cell_type": "markdown",
   "id": "74a24adf",
   "metadata": {
    "slideshow": {
     "slide_type": "slide"
    }
   },
   "source": [
    "# How hard is it to run OF-DFT simulations?"
   ]
  },
  {
   "cell_type": "markdown",
   "id": "e2fe9d3b",
   "metadata": {
    "slideshow": {
     "slide_type": "fragment"
    }
   },
   "source": [
    "### First generate a model system: bulk Al (cubic cell)"
   ]
  },
  {
   "cell_type": "code",
   "execution_count": 19,
   "id": "c96b8edc",
   "metadata": {
    "scrolled": true,
    "slideshow": {
     "slide_type": "fragment"
    }
   },
   "outputs": [
    {
     "data": {
      "application/vnd.jupyter.widget-view+json": {
       "model_id": "822c941274f04e9e8f0ae52e6ef541bd",
       "version_major": 2,
       "version_minor": 0
      },
      "text/plain": []
     },
     "metadata": {},
     "output_type": "display_data"
    },
    {
     "data": {
      "application/vnd.jupyter.widget-view+json": {
       "model_id": "001138feab094edea4e1d38e22217fa6",
       "version_major": 2,
       "version_minor": 0
      },
      "text/plain": [
       "HBox(children=(NGLWidget(), VBox(children=(Dropdown(description='Show', options=('All', 'Al'), value='All'), D…"
      ]
     },
     "metadata": {},
     "output_type": "display_data"
    }
   ],
   "source": [
    "from ase.build import bulk\n",
    "atoms = bulk('Al', 'fcc', a=4.05, cubic=True)\n",
    "ions = Ions.from_ase(atoms)\n",
    "view(ions, viewer='ngl')"
   ]
  },
  {
   "cell_type": "markdown",
   "id": "5e41b563",
   "metadata": {
    "slideshow": {
     "slide_type": "subslide"
    }
   },
   "source": [
    "### Then run a OF-DFT simulation with `DFTpy`"
   ]
  },
  {
   "cell_type": "code",
   "execution_count": 26,
   "id": "d3dad2df",
   "metadata": {
    "slideshow": {
     "slide_type": "fragment"
    }
   },
   "outputs": [
    {
     "data": {
      "text/html": [
       "\n",
       "        <iframe\n",
       "            width=\"800\"\n",
       "            height=\"300\"\n",
       "            src=\"http://dftpy.rutgers.edu\"\n",
       "            frameborder=\"0\"\n",
       "            allowfullscreen\n",
       "            \n",
       "        ></iframe>\n",
       "        "
      ],
      "text/plain": [
       "<IPython.lib.display.IFrame at 0x137fdcb20>"
      ]
     },
     "execution_count": 26,
     "metadata": {},
     "output_type": "execute_result"
    }
   ],
   "source": [
    "IFrame('http://dftpy.rutgers.edu', width=800, height=300)"
   ]
  },
  {
   "cell_type": "code",
   "execution_count": 21,
   "id": "c5558268",
   "metadata": {
    "slideshow": {
     "slide_type": "fragment"
    }
   },
   "outputs": [
    {
     "data": {
      "text/plain": [
       "array([20, 20, 20], dtype=int32)"
      ]
     },
     "execution_count": 21,
     "metadata": {},
     "output_type": "execute_result"
    }
   ],
   "source": [
    "nr = ecut2nr(ecut=35, lattice=ions.cell)\n",
    "nr"
   ]
  },
  {
   "cell_type": "code",
   "execution_count": 22,
   "id": "465163af",
   "metadata": {
    "slideshow": {
     "slide_type": "fragment"
    }
   },
   "outputs": [
    {
     "name": "stdout",
     "output_type": "stream",
     "text": [
      "setting key: Al -> Al_lda.oe01.recpot\n"
     ]
    }
   ],
   "source": [
    "grid = DirectGrid(lattice=ions.cell, nr=nr)\n",
    "PSEUDO = LocalPseudo(grid = grid, ions=ions, PP_list=PP_list)\n",
    "rho_ini = DirectField(grid=grid)\n",
    "rho_ini[:] = ions.get_ncharges()/ions.cell.volume\n",
    "HARTREE = Functional(type='HARTREE')\n",
    "XC = Functional(type='XC',name='LDA')"
   ]
  },
  {
   "cell_type": "markdown",
   "id": "202c6d4d",
   "metadata": {
    "slideshow": {
     "slide_type": "slide"
    }
   },
   "source": [
    "### Let's pick a $T_s[n]$"
   ]
  },
  {
   "cell_type": "markdown",
   "id": "6a6baab3",
   "metadata": {
    "slideshow": {
     "slide_type": "fragment"
    }
   },
   "source": [
    "- $T_s[n]$ also called KEDF. In this example we use Thomas Fermi + von Weizsacker:\n",
    "$$T_s[n] = \\int C_{TF} n^{5/3}(\\mathbf{r}) + \\frac{\\nabla n^{1/2}(\\mathbf{r})\\cdot \\nabla n^{1/2}(\\mathbf{r})}{2} d\\mathbf{r}$$"
   ]
  },
  {
   "cell_type": "code",
   "execution_count": 23,
   "id": "7ddf262a",
   "metadata": {
    "slideshow": {
     "slide_type": "fragment"
    }
   },
   "outputs": [],
   "source": [
    "KE = Functional(type='KEDF',name='x_TF_y_vW') "
   ]
  },
  {
   "cell_type": "markdown",
   "id": "415500a6",
   "metadata": {
    "slideshow": {
     "slide_type": "slide"
    }
   },
   "source": [
    "### Define \"total energy\" and minimize $E[n]$"
   ]
  },
  {
   "cell_type": "code",
   "execution_count": 27,
   "id": "f144c0f8",
   "metadata": {
    "slideshow": {
     "slide_type": "fragment"
    }
   },
   "outputs": [
    {
     "name": "stdout",
     "output_type": "stream",
     "text": [
      "Step    Energy(a.u.)            dE              dP              Nd      Nls     Time(s)         \n",
      "0       2.692153511701E+00      2.692154E+00    7.877088E-01    1       1       5.481005E-03    \n",
      "1       2.509905170260E+00      -1.822483E-01   7.033208E-02    2       1       2.009296E-02    \n",
      "2       2.502273082057E+00      -7.632088E-03   4.803551E-03    7       1       5.026674E-02    \n",
      "3       2.502030159489E+00      -2.429226E-04   3.640546E-04    5       1       7.043886E-02    \n",
      "4       2.501995243580E+00      -3.491591E-05   3.590712E-05    6       1       9.271193E-02    \n",
      "5       2.501992596736E+00      -2.646845E-06   2.500920E-06    5       1       1.122718E-01    \n",
      "6       2.501992226204E+00      -3.705314E-07   4.568870E-08    8       1       1.395588E-01    \n",
      "#### Density Optimization Converged ####\n",
      "Chemical potential (a.u.): 0.30115196527266436\n",
      "Chemical potential (eV)  : 8.194761597103438\n",
      "142 ms ± 0 ns per loop (mean ± std. dev. of 1 run, 1 loop each)\n"
     ]
    }
   ],
   "source": [
    "evaluator = TotalFunctional(KE=KE, XC=XC, HARTREE=HARTREE, PSEUDO=PSEUDO)\n",
    "optimization_options = {'econv' : 1e-6*ions.nat}\n",
    "opt = Optimization(EnergyEvaluator=evaluator, optimization_options = optimization_options,\n",
    "        optimization_method = 'TN')\n",
    "%timeit -n1 -r1 rho = opt.optimize_rho(guess_rho=rho_ini)"
   ]
  },
  {
   "cell_type": "markdown",
   "id": "f822281b",
   "metadata": {
    "slideshow": {
     "slide_type": "fragment"
    }
   },
   "source": [
    "<div class=\"alert alert-block alert-success\"><center><b>Opportunities:</b> Can manipulate rho as you wish - many functionalities are available in DFTpy</center></div>"
   ]
  },
  {
   "cell_type": "markdown",
   "id": "63b3b5dc",
   "metadata": {
    "slideshow": {
     "slide_type": "fragment"
    }
   },
   "source": [
    "...let's try to re-run it with a different $T_s[n]$."
   ]
  },
  {
   "cell_type": "markdown",
   "id": "f9662280",
   "metadata": {
    "slideshow": {
     "slide_type": "slide"
    }
   },
   "source": [
    "### $T_s[n]$: (semi)local and nonlocal functionals\n",
    "<br>\n",
    "<center>\n",
    "    <img src=\"figures/science/local_nonlocal.png\" width=1600 />\n",
    "<p>Wenhui Mi, MP JCP (2018) • Wenhui Mi, MP PRB (2019) • Xuecheng Shao, WM, MP PRB (2021)\n",
    "Xuecheng Shao, WM, MP JPCL (2021) • Xuecheng Shao, WM, MP JCTC (2021) • Wenhui Mi, MP JPCL (2020)</p>\n",
    "    </center>"
   ]
  },
  {
   "cell_type": "markdown",
   "id": "758f54fc",
   "metadata": {
    "slideshow": {
     "slide_type": "slide"
    }
   },
   "source": [
    "### Re-run of OF-DFT with nonlocal $T_s[n]$"
   ]
  },
  {
   "cell_type": "code",
   "execution_count": null,
   "id": "77621e64",
   "metadata": {
    "slideshow": {
     "slide_type": "fragment"
    }
   },
   "outputs": [],
   "source": [
    "KE = Functional(type='KEDF',name='WT')\n",
    "evaluator = TotalFunctional(KE=KE, XC=XC, HARTREE=HARTREE, PSEUDO=PSEUDO)\n",
    "optimization_options = {'econv' : 1e-5*ions.nat}\n",
    "opt = Optimization(EnergyEvaluator=evaluator, optimization_options = optimization_options,\n",
    "        optimization_method = 'TN')\n",
    "%timeit -n1 -r2 rho = opt.optimize_rho(guess_rho=rho_ini)"
   ]
  },
  {
   "cell_type": "markdown",
   "id": "519153dd",
   "metadata": {
    "slideshow": {
     "slide_type": "fragment"
    }
   },
   "source": [
    "<center><div class=\"alert alert-block alert-danger\">\n",
    "    Nonlocal $T_s[n]$ are somewhat slower than semilocal functionals\n",
    "</div> \n",
    "    </center>"
   ]
  },
  {
   "cell_type": "markdown",
   "id": "f323cdc7",
   "metadata": {
    "slideshow": {
     "slide_type": "slide"
    }
   },
   "source": [
    "# How does OF-DFT compare with KS-DFT?\n",
    "\n",
    "<h4 style=\"text-align: center;\">We will run a Quantum ESPRESSO calculation of the same system using QEpy</h4>"
   ]
  },
  {
   "cell_type": "code",
   "execution_count": 2,
   "id": "e9b4a061",
   "metadata": {
    "slideshow": {
     "slide_type": "fragment"
    }
   },
   "outputs": [],
   "source": [
    "from qepy.driver import Driver\n",
    "from qepy.io import QEInput"
   ]
  },
  {
   "cell_type": "code",
   "execution_count": 28,
   "id": "fe3b8392",
   "metadata": {
    "slideshow": {
     "slide_type": "fragment"
    }
   },
   "outputs": [
    {
     "data": {
      "text/html": [
       "\n",
       "        <iframe\n",
       "            width=\"1000\"\n",
       "            height=\"400\"\n",
       "            src=\"http://qepy.rutgers.edu\"\n",
       "            frameborder=\"0\"\n",
       "            allowfullscreen\n",
       "            \n",
       "        ></iframe>\n",
       "        "
      ],
      "text/plain": [
       "<IPython.lib.display.IFrame at 0x137fddff0>"
      ]
     },
     "execution_count": 28,
     "metadata": {},
     "output_type": "execute_result"
    }
   ],
   "source": [
    "IFrame('http://qepy.rutgers.edu', width=1000, height=400)"
   ]
  },
  {
   "cell_type": "markdown",
   "id": "ded9fe08",
   "metadata": {
    "slideshow": {
     "slide_type": "slide"
    }
   },
   "source": [
    "### QEpy's input file is a dictionary"
   ]
  },
  {
   "cell_type": "code",
   "execution_count": 4,
   "id": "11a26389",
   "metadata": {
    "slideshow": {
     "slide_type": "fragment"
    }
   },
   "outputs": [],
   "source": [
    "qe_options = {\n",
    "    '&control': {\n",
    "        'calculation': \"'scf'\",\n",
    "        'pseudo_dir': \"'./'\",\n",
    "    },\n",
    "    '&system': {\n",
    "        'ibrav' : 0,\n",
    "        'degauss': 0.005,\n",
    "        'ecutwfc': 30,\n",
    "        'occupations': \"'smearing'\"\n",
    "    },\n",
    "    'atomic_species': ['Al  26.98 Al.pbe-nl-kjpaw_psl.1.0.0.UPF'],\n",
    "    'k_points gamma': [],\n",
    "}"
   ]
  },
  {
   "cell_type": "markdown",
   "id": "01ac1ffb",
   "metadata": {
    "slideshow": {
     "slide_type": "fragment"
    }
   },
   "source": [
    "!wget http://pseudopotentials.quantum-espresso.org/upf_files/Al.pbe-nl-kjpaw_psl.1.0.0.UPF"
   ]
  },
  {
   "cell_type": "code",
   "execution_count": 11,
   "id": "8b3aec83",
   "metadata": {
    "slideshow": {
     "slide_type": "fragment"
    }
   },
   "outputs": [],
   "source": [
    "options = {\n",
    "    '&electrons': {\n",
    "        'mixing_beta': 0.5},\n",
    "    'cell_parameters angstrom':[\n",
    "        '0.     2.025  2.025',\n",
    "        '2.025  0.     2.025',\n",
    "        '2.025  2.025  0.   '],\n",
    "    'atomic_positions crystal': ['Al    0.0  0.0  0.0'],\n",
    "    'k_points automatic': ['11 11 11 1 1 1'],\n",
    "}"
   ]
  },
  {
   "cell_type": "markdown",
   "id": "02b58d6b",
   "metadata": {
    "slideshow": {
     "slide_type": "slide"
    }
   },
   "source": [
    "### Initialize QEpy"
   ]
  },
  {
   "cell_type": "code",
   "execution_count": 12,
   "id": "7d9a7388",
   "metadata": {
    "slideshow": {
     "slide_type": "fragment"
    }
   },
   "outputs": [],
   "source": [
    "qe_options = QEInput.update_options(options, qe_options=qe_options)"
   ]
  },
  {
   "cell_type": "code",
   "execution_count": 13,
   "id": "17a58986",
   "metadata": {
    "slideshow": {
     "slide_type": "fragment"
    }
   },
   "outputs": [
    {
     "name": "stdout",
     "output_type": "stream",
     "text": [
      "7.86 s ± 0 ns per loop (mean ± std. dev. of 1 run, 1 loop each)\n"
     ]
    }
   ],
   "source": [
    "driver = Driver(qe_options=qe_options, logfile=True)\n",
    "%timeit -n1 -r1 driver.scf() "
   ]
  },
  {
   "cell_type": "code",
   "execution_count": 14,
   "id": "20e4aee4",
   "metadata": {
    "slideshow": {
     "slide_type": "fragment"
    }
   },
   "outputs": [
    {
     "data": {
      "text/plain": [
       "7.763838668998949e-08"
      ]
     },
     "execution_count": 14,
     "metadata": {},
     "output_type": "execute_result"
    }
   ],
   "source": [
    "driver.get_scf_error()"
   ]
  },
  {
   "cell_type": "code",
   "execution_count": 15,
   "id": "f7497f3d",
   "metadata": {
    "slideshow": {
     "slide_type": "fragment"
    }
   },
   "outputs": [],
   "source": [
    "driver.stop()"
   ]
  },
  {
   "cell_type": "markdown",
   "id": "b530df9f",
   "metadata": {
    "slideshow": {
     "slide_type": "fragment"
    }
   },
   "source": [
    "<center><div class=\"alert alert-block alert-danger\">\n",
    "    KS-DFT is $\\bigstar$ times slower than nonlocal OF-DFT for this small system.\n",
    "</div></center>"
   ]
  },
  {
   "cell_type": "markdown",
   "id": "112d4974",
   "metadata": {
    "slideshow": {
     "slide_type": "slide"
    }
   },
   "source": [
    "#### You can run this later"
   ]
  },
  {
   "cell_type": "markdown",
   "id": "ab7ed452",
   "metadata": {
    "slideshow": {
     "slide_type": "fragment"
    }
   },
   "source": [
    "QEInput().write_qe_input('tmp.in',qe_options=qe_options)\n",
    "!cat tmp.in"
   ]
  },
  {
   "cell_type": "markdown",
   "id": "162bcfff",
   "metadata": {
    "slideshow": {
     "slide_type": "slide"
    }
   },
   "source": [
    "# Poll time\n",
    "- People say OF-DFT is a \"linear-scaling method\". Do you agree?\n",
    "\n",
    "<div class=\"alert alert-block alert-success\">\n",
    "<b>A:</b> Yep! I do!</div>\n",
    "\n",
    "<div class=\"alert alert-block alert-danger\">\n",
    "<b>B:</b> Nah. Not really.</div>\n",
    "\n",
    "<div class=\"alert alert-block alert-warning\">\n",
    "<b>C:</b> Sometimes.</div>\n",
    "\n",
    "<center>\n",
    "        <img src=\"./figures/random/poll_1.png\" width=500 />\n",
    "</center>\n"
   ]
  },
  {
   "cell_type": "markdown",
   "id": "e2adcd6c",
   "metadata": {
    "slideshow": {
     "slide_type": "slide"
    }
   },
   "source": [
    "# Can OF-DFT approach surfaces?\n",
    "\n",
    "<center>\n",
    "    <p style=\"font-size:100%; text-align:center;\">Shao, Mi & Pavanello, Phys. Rev. B <b>104</b>, 045118 (2021)</p>\n",
    "    <br>\n",
    "    <img src=\"figures/science/ofdft_surfaces.png\" width=1800 />\n",
    "    <div class=\"alert alert-block alert-success\">Excellent results for difficult semiconductors and metals!</div>\n",
    "</center>"
   ]
  },
  {
   "cell_type": "markdown",
   "id": "d992e5c2",
   "metadata": {
    "slideshow": {
     "slide_type": "slide"
    }
   },
   "source": [
    "# What else can OF-DFT do?\n",
    "<br>\n",
    "<center>\n",
    "    <p style=\"font-size:100%; text-align:center;\"> J. Phys. Chem. Lett. <b>12</b>, 4134 (2021) &#x25C6; WIREs: Comp. Mol. Sci. <b>11</b>, e1482 (2021)</p>\n",
    "    <br>\n",
    "    <img src=\"figures/science/ofdft_showoff.png\" width=1600 />\n",
    "    <div class=\"alert alert-block alert-danger\">How about optical spectra and dynamics?</div>\n",
    "</center>"
   ]
  },
  {
   "cell_type": "markdown",
   "id": "39a0928a",
   "metadata": {
    "slideshow": {
     "slide_type": "slide"
    }
   },
   "source": [
    "# OF-DFT is limited...\n",
    "<br>\n",
    "<center>\n",
    "<img src=\"figures/science/periodic_all.png\" width=1100 />\n",
    "</center>"
   ]
  },
  {
   "cell_type": "markdown",
   "id": "7a5435be",
   "metadata": {
    "slideshow": {
     "slide_type": "slide"
    }
   },
   "source": [
    "# OF-DFT is limited$\\ldots$ but why?\n",
    "<br>\n",
    "<center>\n",
    "<img src=\"figures/science/periodic_ofdft.png\" width=1100 />\n",
    "</center>"
   ]
  },
  {
   "cell_type": "markdown",
   "id": "a88bbcc3",
   "metadata": {
    "slideshow": {
     "slide_type": "slide"
    }
   },
   "source": [
    "<h1> What are nonlocal PPs?</h1>"
   ]
  },
  {
   "cell_type": "markdown",
   "id": "b3925624",
   "metadata": {
    "slideshow": {
     "slide_type": "slide"
    }
   },
   "source": [
    "<br>\n",
    "<div class=\"split left\">\n",
    "    <div class=\"centered\">\n",
    "    <h2>Core Electrons</h2>\n",
    "        <br>\n",
    "        <br>\n",
    "        <br>\n",
    "    <img src=\"figures/random/p_orbital.jpeg\" width=400 />\n",
    "    <p>Using pseudo-potentials, core electrons are \"hidden\"</p>\n",
    "    </div>\n",
    "</div>\n",
    "\n",
    "<div class=\"split right\">\n",
    "    <div class=\"centered\">\n",
    "    <h2>Valence Electrons</h2>\n",
    "    <p>Need to be orthogonal to the core electrons</p>\n",
    "    <img src=\"figures/random/gs_rth.svg\" width=400 />\n",
    "    <p>The Gram-Schmidt orthogonalization is a good example</p>\n",
    "    </div>\n",
    "</div>\n",
    "\n"
   ]
  },
  {
   "cell_type": "markdown",
   "id": "a67d08ff",
   "metadata": {
    "slideshow": {
     "slide_type": "slide"
    }
   },
   "source": [
    "<h2>Non-local pseudo-potentials explained</h2>"
   ]
  },
  {
   "cell_type": "markdown",
   "id": "fd24259c",
   "metadata": {
    "slideshow": {
     "slide_type": "fragment"
    }
   },
   "source": [
    "Apply Gram-Schmidt to the set of valence, $|\\phi\\rangle$, and core, $|\\text{core}\\rangle$, electrons:\n",
    "$$\n",
    "|\\phi\\rangle \\to |\\phi\\rangle - |\\text{core}\\rangle\\langle\\text{core}|\\phi\\rangle = \\bigg[ 1 - |\\text{core}\\rangle\\langle\\text{core}| \\bigg] |\\phi\\rangle \n",
    "$$"
   ]
  },
  {
   "cell_type": "markdown",
   "id": "6706f9de",
   "metadata": {
    "slideshow": {
     "slide_type": "fragment"
    }
   },
   "source": [
    "<center>\n",
    "<div class=\"alert alert-success alert-warning\">$\\hat{P}_{nl}=\\bigg[ 1 - |\\text{core}\\rangle\\langle\\text{core}| \\bigg]$ is the <b>non-local pseudopotential</b></div>\n",
    "</center>"
   ]
  },
  {
   "cell_type": "markdown",
   "id": "1a13f26d",
   "metadata": {
    "slideshow": {
     "slide_type": "fragment"
    }
   },
   "source": [
    "<center>\n",
    "<div class=\"alert alert-block alert-danger\">In OF-DFT $|\\phi\\rangle$ is not available$\\ldots$</div>\n",
    "</center>"
   ]
  },
  {
   "cell_type": "markdown",
   "id": "536e70ea",
   "metadata": {
    "slideshow": {
     "slide_type": "slide"
    }
   },
   "source": [
    "# Poll time / challenge\n",
    "- How would you fix OF-DFT's impossibility to use nonlocal PPs?\n",
    "\n",
    "<div class=\"alert alert-block alert-warning\">\n",
    "<b>A:</b> Use KS-DFT for atoms only, or smaller fragments of the system</div>\n",
    "\n",
    "<div class=\"alert alert-block alert-warning\">\n",
    "<b>B:</b> Throw OF-DFT away!</div>\n",
    "\n",
    "<div class=\"alert alert-block alert-warning\">\n",
    "<b>C:</b> Introduce nonlocal pseudopotentials in OF-DFT somehow</div>\n",
    "\n",
    "<center>\n",
    "        <img src=\"./figures/random/poll_2.png\" width=500 />\n",
    "</center>\n",
    "\n"
   ]
  },
  {
   "cell_type": "markdown",
   "id": "b9b41a81",
   "metadata": {
    "slideshow": {
     "slide_type": "slide"
    }
   },
   "source": [
    "# Subsystem DFT (sDFT) - Theory\n",
    "\n",
    "<div class=\"alert alert-block alert-warning\">\n",
    "    <p><b>Idea:</b></p>\n",
    "    <ul>\n",
    "        <li>Split system into (smaller) subsystems: $n(\\mathbf{r})=\\sum_I n_I(\\mathbf{r})$</li>\n",
    "        <li>Use KS-DFT <b>or</b> OF-DFT for the subsystems</li>\n",
    "        <li><p>Energy is split in <i>additive</i> and <i>non-additive</i> terms:</p><p>$$E[n]\\equiv E[\\{n_I\\}]=\\sum_I E[n_I] + E^{nadd}[\\{n_I\\}]$$</p></li>\n",
    "        <li><p>The nonadditive energy given by:</p><p>$$E^{nadd}[\\{n_I\\}] = E_{Coul}[n] - \\sum_IE_{Coul}[n_I] + E[n] - \\sum_IE[n_I] + E_{xc}[n] - \\sum_IE_{xc}[n_I] + T_{s}[n] - \\sum_IT_{s}[n_I]$$</p></li>\n",
    "    </ul>\n",
    "</div>\n",
    "<div class=\"alert alert-block alert-danger\">\n",
    "<b>Problem:</b> The non-additive energy contains the non-additive kinetic energy, $T_s^{nadd}[\\{n_I\\}]$, which not known.\n",
    "</div>\n",
    "<div class=\"alert alert-block alert-success\">\n",
    "    <b>Opportunity:</b> We can use <i>fancy non-local</i> $T_s^{nadd}[\\{n_I\\}]$, previously developed for OF-DFT.\n",
    "</div>"
   ]
  },
  {
   "cell_type": "markdown",
   "id": "4931a1ae",
   "metadata": {
    "slideshow": {
     "slide_type": "slide"
    }
   },
   "source": [
    "# sDFT implementations\n",
    "<br>\n",
    "<table>\n",
    "    <tr>\n",
    "        <td>eQE</td><td>eDFTpy</td>\n",
    "    </tr>\n",
    "    <tr>\n",
    "        <td>2017-2022</td><td>2022-present</td>\n",
    "    </tr>\n",
    "    <tr>\n",
    "        <td>Serenity</td><td>CP2k</td>\n",
    "    </tr>\n",
    "     <tr>\n",
    "        <td>Neugebauer (Münster)</td><td>Luber, Hutter (Zurich)</td>\n",
    "    </tr>\n",
    "</table>"
   ]
  },
  {
   "cell_type": "code",
   "execution_count": 16,
   "id": "43883cd0",
   "metadata": {
    "slideshow": {
     "slide_type": "fragment"
    }
   },
   "outputs": [
    {
     "data": {
      "text/html": [
       "\n",
       "        <iframe\n",
       "            width=\"1000\"\n",
       "            height=\"400\"\n",
       "            src=\"http://edftpy.rutgers.edu\"\n",
       "            frameborder=\"0\"\n",
       "            allowfullscreen\n",
       "            \n",
       "        ></iframe>\n",
       "        "
      ],
      "text/plain": [
       "<IPython.lib.display.IFrame at 0x13792f730>"
      ]
     },
     "execution_count": 16,
     "metadata": {},
     "output_type": "execute_result"
    }
   ],
   "source": [
    "IFrame('http://edftpy.rutgers.edu', width=1000, height=400)"
   ]
  },
  {
   "cell_type": "markdown",
   "id": "17464dfa",
   "metadata": {
    "slideshow": {
     "slide_type": "slide"
    }
   },
   "source": [
    "# Subsystem DFT (sDFT) - Timings\n",
    "<br>\n",
    "<center>\n",
    "<img src=\"figures/science/sdft_timings.png\" width=1300 />\n",
    "</center>\n",
    "<ul>\n",
    "    <li> Comp. Phys. Comm. <b>269</b>, 108122 (2021)</li>\n",
    "    <li> Int. J. Quantum Chem. <b>117</b> e25401 (2017)</li>\n",
    "    <li> J. Phys. Chem. Lett. <b>10</b> 7554 (2019)</li>\n",
    "</ul>\n"
   ]
  },
  {
   "cell_type": "markdown",
   "id": "33cd2da0",
   "metadata": {
    "slideshow": {
     "slide_type": "slide"
    }
   },
   "source": [
    "# How accurate is sDFT?\n",
    "<br>\n",
    "\n",
    "<p style=\"font-size:100%; text-align:center;\">Deviation against CCSD(T) for the S66 test set</p>\n",
    "\n",
    "<table>\n",
    "    <tr>\n",
    "        <td>\n",
    "            <center>\n",
    "                <img src=\"figures/science/sdft_s66.png\" width=700 />\n",
    "            </center>\n",
    "        </td>\n",
    "        <td>&nbsp;&nbsp;&nbsp;&nbsp;</td>\n",
    "        <td>\n",
    "            <center>\n",
    "                <img src=\"figures/science/S66_comparisons.png\" width=700 />\n",
    "            </center>\n",
    "        </td>\n",
    "    </tr>\n",
    "    <tr>\n",
    "        <td>\n",
    "            <ul>\n",
    "                <li> Comp. Phys. Comm. <b>269</b>, 108122 (2021)</li>\n",
    "                <li> J. Chem. Theory Comput. <b>17</b> 3455 (2021)</li>\n",
    "                <li> J. Phys. Chem. Lett. <b>11</b> 272 (2020)</li>\n",
    "            </ul>\n",
    "        </td>\n",
    "        <td>\n",
    "        </td>\n",
    "        <td>\n",
    "            <ul>\n",
    "                <li> J. Chem. Theory Comput. <b>7</b> 2427 (2011)</li>\n",
    "            </ul>\n",
    "        </td>\n",
    "    </tr>\n",
    "    </tr>\n",
    "</table>\n"
   ]
  },
  {
   "cell_type": "markdown",
   "id": "eb260dd8",
   "metadata": {
    "slideshow": {
     "slide_type": "slide"
    }
   },
   "source": [
    "<center><h3>sDFT success stories</h3></center>\n",
    "\n",
    "\n",
    "<table>\n",
    "    <tr>\n",
    "        <td><h2>Liquid water</h2></td> <td><h2>Fluid CO<sub>2</sub></h2></td>\n",
    "    </tr>\n",
    "    <tr>\n",
    "        <td><img src=\"figures/science/water_goo_w64.png\" width=750 /></td><td><img src=\"figures/science/co2_gofr.png\" width=600 /></td>\n",
    "    </tr>\n",
    "</table>\n",
    "<center><div class=\"alert alert-block alert-success\">\n",
    "    Structure and dynamics recovered!\n",
    "</div></center>"
   ]
  },
  {
   "cell_type": "markdown",
   "id": "7964d877",
   "metadata": {
    "slideshow": {
     "slide_type": "slide"
    }
   },
   "source": [
    "# sDFT is not perfect either...\n",
    "<p>The nonadditive kinetic energy, $T_s^{nadd}[n]$, is not accurate enough when...</p>\n",
    "<br>\n",
    "<table>\n",
    "    <tr>\n",
    "    <td> &#x25C6; ...there are covalent bonds between subsystems</td>\n",
    "        <td>&nbsp;&nbsp;&nbsp;&nbsp;</td>\n",
    "    <td> &#x25C6; ...subsystems are too close</td>\n",
    "    </tr>\n",
    "</table>\n",
    "<br>\n",
    "<center>\n",
    "    <img src=\"figures/science/diels_alder.png\" width=950 />\n",
    "    <div class=\"alert alert-block alert-success\">\n",
    "    Adaptive sDFT has only 1 parameter (rcut) related to the covalent radii.\n",
    "</div>\n",
    "</center>\n",
    "\n"
   ]
  },
  {
   "cell_type": "markdown",
   "id": "a2a10686",
   "metadata": {
    "slideshow": {
     "slide_type": "slide"
    }
   },
   "source": [
    "# Adaptive sDFT\n",
    "\n",
    "<br>\n",
    "\n",
    "#### To do:\n",
    "\n",
    "<ul style=\"text-align: left; font-size: 70%; line-height:90%;margin-top: 0; margin-bottom: 0;\">\n",
    "    <li>Must be able to \"split\" and \"merge\" subsystems along a dynamics</li>\n",
    "    <li>Do so <i>automatically</i></li>\n",
    "</ul>\n",
    "\n",
    "<br>\n",
    "<br>\n",
    "\n",
    "<h4 style=\"margin-top: 0.5em;\"> We did it... but it was challenging</h4>\n",
    "<table>\n",
    "    <tr>\n",
    "        <td>\n",
    "            <center>\n",
    "            <ul style=\"border:2px solid red; text-align: left; font-size: 135%; line-height:150%; margin-right: 1em;\">\n",
    "                <li>Adaptive computational settings</li>\n",
    "                <li>Adaptive MPI communicators</li>\n",
    "                <li>Adaptive data allocation</li>\n",
    "            </ul>\n",
    "            </center>\n",
    "        </td>\n",
    "        <td style=\"width:55%\">\n",
    "            <img src=\"figures/science/sdft_merging_cells.png\" width=100% />\n",
    "        </td>\n",
    "    </tr>\n",
    "</table>"
   ]
  },
  {
   "cell_type": "markdown",
   "id": "035537fc",
   "metadata": {
    "slideshow": {
     "slide_type": "slide"
    }
   },
   "source": [
    "# Adaptive sDFT: dissociation of NaCl in water\n",
    "\n",
    "https://www.youtube.com/watch?v=-lmdPHzJfeU"
   ]
  },
  {
   "cell_type": "code",
   "execution_count": null,
   "id": "ed179a83",
   "metadata": {
    "hide_input": true,
    "scrolled": true,
    "slideshow": {
     "slide_type": "fragment"
    }
   },
   "outputs": [],
   "source": [
    "YouTubeVideo('-lmdPHzJfeU', width=600, height=450)"
   ]
  },
  {
   "cell_type": "markdown",
   "id": "7f3f11c5",
   "metadata": {
    "slideshow": {
     "slide_type": "slide"
    }
   },
   "source": [
    "# Adaptive sDFT: hydration of Ni$^{2+}$, Pd$^{2+}$ and Pt$^{2+}$"
   ]
  },
  {
   "cell_type": "markdown",
   "id": "04365466",
   "metadata": {
    "slideshow": {
     "slide_type": "fragment"
    }
   },
   "source": [
    "<center>\n",
    "    <img src=\"./figures/science/metal_hydration_snapshot.png\" width=900 />\n",
    "    </center>"
   ]
  },
  {
   "cell_type": "markdown",
   "id": "bfe338f4",
   "metadata": {
    "slideshow": {
     "slide_type": "slide"
    }
   },
   "source": [
    "# Comparison with experiments for Ni and Pd"
   ]
  },
  {
   "cell_type": "markdown",
   "id": "cd8e8cca",
   "metadata": {
    "slideshow": {
     "slide_type": "fragment"
    }
   },
   "source": [
    "<br>\n",
    "<center>\n",
    "<table>\n",
    "    <tr>\n",
    "        <td><b><center>Ni(II) -- Total $G_{Ni}(r)$ and partial $G_{Ni-O}(r)$</center></b></td>\n",
    "        <td><b><center>Pd(II) -- Total structure factor $S(Q)$</center></b></td>\n",
    "    </tr>\n",
    "    <tr>\n",
    "        <td>\n",
    "            <img src=\"figures/science/gofr_ni.png\" width=850 align=\"center\" />\n",
    "        </td>\n",
    "        <td>\n",
    "            <img src=\"figures/science/SQ_pd.png\" width=1150 align=\"center\" />\n",
    "        </td>\n",
    "    </tr>\n",
    "    <tr>\n",
    "        <td>\n",
    "            <ul>\n",
    "            <li style=\"color:grey;\">Almost quantitative agreement with experiments</li>\n",
    "            <li>XRay: Powell et al 1989 J. Phys.: Condens. Matter 1 8721; </li>\n",
    "            <li>N scattering: Nelson et al J. Phys. C 11, 15 L625 (1978)</li>\n",
    "            </ul>\n",
    "        </td>\n",
    "        <td>\n",
    "            <ul>\n",
    "            <li style=\"color:blue;\">Better agreement with the experiment compared with the EPSR result of Bowron <i>et al.</i></li>\n",
    "            </ul>\n",
    "        </td>\n",
    "    </tr>\n",
    "</table>\n",
    "    </center>"
   ]
  },
  {
   "cell_type": "markdown",
   "id": "24a58901",
   "metadata": {
    "slideshow": {
     "slide_type": "slide"
    }
   },
   "source": [
    "# What did you (hopefully) learn?\n",
    "\n",
    "<hr>\n",
    "<div class=\"alert alert-block alert-success\">\n",
    "    <b>Good things:</b><br>\n",
    "    <ul>\n",
    "        <li> OF-DFT is very fast and linear scaling with system size</li>\n",
    "        <li> OF-DFT is useful for metals and semiconductors of any shape and size</li>\n",
    "        <li> Where OF-DFT fails we can use Subsystem DFT. Still linear scaling, and applicable to any inter-subsystem interaction strength</li>\n",
    "        <li> Therefore, the applicability of KS-DFT is extended to larger, more meaningful systems</li>\n",
    "    </ul>\n",
    "</div>\n",
    "\n",
    "<hr>\n",
    "\n",
    "<div class=\"alert alert-block alert-danger\">\n",
    "<b>Bad things:</b><br>\n",
    "    <ul>\n",
    "        <li> OF-DFT has limited applicability because of the \"nonlocal pseudopotential problem\"</li>\n",
    "        <li> Subsystem DFT is fast but only if subsystems are small</li>\n",
    "    </ul>\n",
    "</div>\n",
    "<hr>"
   ]
  },
  {
   "cell_type": "markdown",
   "id": "ceb95b4b",
   "metadata": {
    "slideshow": {
     "slide_type": "fragment"
    }
   },
   "source": [
    "# Thank you!"
   ]
  }
 ],
 "metadata": {
  "celltoolbar": "Slideshow",
  "hide_input": false,
  "kernelspec": {
   "display_name": "Python 3 (ipykernel)",
   "language": "python",
   "name": "python3"
  },
  "language_info": {
   "codemirror_mode": {
    "name": "ipython",
    "version": 3
   },
   "file_extension": ".py",
   "mimetype": "text/x-python",
   "name": "python",
   "nbconvert_exporter": "python",
   "pygments_lexer": "ipython3",
   "version": "3.10.11"
  },
  "rise": {
   "enable_chalkboard": true,
   "theme": "sky"
  }
 },
 "nbformat": 4,
 "nbformat_minor": 5
}
